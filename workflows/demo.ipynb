{
 "cells": [
  {
   "cell_type": "markdown",
   "metadata": {
    "pycharm": {
     "name": "#%% md\n"
    }
   },
   "source": [
    "# SV Simulation Tutorial:\n",
    "This notebook demonstrates the process of creating a synthetic genome from an input reference, and then simulating and aligning reads and inspecting the results. Below we provide an example configuration file specifying the SVs to be included in the synthetic output genome and insert those SVs into chromosome 21 of GRCh38. We provide example calls to DWGSIM and PBSIM3 to generate synthetic paired-end short read and HiFi long reads, but this procedure is generalizable to any read simulator. Lastly, we provide visualization code to view the size distribution of the simulated SVs as well as the pileup images of the reads in the impacted regions of the genome."
   ]
  },
  {
   "cell_type": "code",
   "execution_count": null,
   "metadata": {
    "pycharm": {
     "is_executing": true,
     "name": "#%%\n"
    }
   },
   "outputs": [],
   "source": [
    "import igv_notebook\n",
    "import pandas as pd\n",
    "import numpy as np\n",
    "import seaborn as sns\n",
    "import matplotlib.pyplot as plt\n",
    "from pysam import VariantFile\n",
    "from intervaltree import Interval, IntervalTree\n",
    "from IPython.display import Image"
   ]
  },
  {
   "cell_type": "markdown",
   "metadata": {},
   "source": [
    "## Synthetic reference simulation\n",
    "`config.yaml` gives the composition of the set of SVs to be input into the reference. Here we've included 5 examples each of the types deletion (DEL), tandem duplication (DUP), inversion (INV), and dispersed duplication (dDUP)."
   ]
  },
  {
   "cell_type": "code",
   "execution_count": null,
   "metadata": {
    "pycharm": {
     "name": "#%%\n"
    }
   },
   "outputs": [],
   "source": [
    "%%sh\n",
    "cat ./config.yaml"
   ]
  },
  {
   "cell_type": "markdown",
   "metadata": {},
   "source": [
    "Creating output directory and downloading chr21 reference"
   ]
  },
  {
   "cell_type": "code",
   "execution_count": null,
   "metadata": {
    "pycharm": {
     "name": "#%%\n"
    },
    "scrolled": true
   },
   "outputs": [],
   "source": [
    "%%sh\n",
    "mkdir -p output\n",
    "mkdir -p chr21_ref\n",
    "\n",
    "wget --directory-prefix=chr21_ref/ https://hgdownload.soe.ucsc.edu/goldenPath/hg38/chromosomes/chr21.fa.gz\n",
    "gunzip chr21_ref/chr21.fa\n",
    "\n",
    "samtools faidx chr21_ref/chr21.fa"
   ]
  },
  {
   "cell_type": "markdown",
   "metadata": {},
   "source": [
    "`simulate.py` is called with the above config and the chromosome 21 reference as input, specifies `./output/sim` as the output prefix for the files that will be generated, and sets a random seed for the simulation (an optional input for `simulate.py`)."
   ]
  },
  {
   "cell_type": "code",
   "execution_count": null,
   "metadata": {},
   "outputs": [],
   "source": [
    "%%sh\n",
    "python ../simulate.py chr21_ref/chr21.fa ./config.yaml ./output/sim --random_seed 42"
   ]
  },
  {
   "cell_type": "markdown",
   "metadata": {},
   "source": [
    "Below we show the VCF generated from the simulation"
   ]
  },
  {
   "cell_type": "code",
   "execution_count": null,
   "metadata": {},
   "outputs": [],
   "source": [
    "%%sh\n",
    "cat output/sim.vcf"
   ]
  },
  {
   "cell_type": "markdown",
   "metadata": {},
   "source": [
    "## Read simulation\n",
    "### Short-read simulation\n",
    "The command below is set to generate synthetic paired-end short reads at 10x coverage (5x per haplotype). Definitions for some of the DWGSIM input parameters are given below:\n",
    "```\n",
    "         -C FLOAT      mean coverage across available positions (-1 to disable) [100.00]\n",
    "         -1 INT        length of the first read [70]\n",
    "         -2 INT        length of the second read [70]\n",
    "         -y FLOAT      probability of a random DNA read [0.05]\n",
    "         -S INT        generate reads [0]:\n",
    "                           0: default (opposite strand for Illumina, same strand for SOLiD/Ion Torrent)\n",
    "                           1: same strand (mate pair)\n",
    "                           2: opposite strand (paired end)\n",
    "```"
   ]
  },
  {
   "cell_type": "code",
   "execution_count": null,
   "metadata": {},
   "outputs": [],
   "source": [
    "%%sh\n",
    "DWGSIM_PATH=dwgsim\n",
    "$DWGSIM_PATH -C 5 -1 151 -2 151 -y 0 -S 0 -c 0 -m /dev/null -H output/sim.hapA.fa output/sim_sr.dwgsim.hap.1\n",
    "$DWGSIM_PATH -C 5 -1 151 -2 151 -y 0 -S 0 -c 0 -m /dev/null -H output/sim.hapB.fa output/sim_sr.dwgsim.hap.2"
   ]
  },
  {
   "cell_type": "markdown",
   "metadata": {},
   "source": [
    "After generating the haplotype-specific read sets, we combine them and align with BWA"
   ]
  },
  {
   "cell_type": "code",
   "execution_count": null,
   "metadata": {},
   "outputs": [],
   "source": [
    "%%sh\n",
    "mv output/sim_sr.dwgsim.hap.1.bfast.fastq.gz output/sim_sr.dwgsim.hap.12.fastq.gz\n",
    "cat output/sim_sr.dwgsim.hap.2.bfast.fastq.gz >> output/sim_sr.dwgsim.hap.12.fastq.gz\n",
    "rm output/sim_sr.dwgsim.hap.2.bfast.fastq.gz"
   ]
  },
  {
   "cell_type": "code",
   "execution_count": null,
   "metadata": {},
   "outputs": [],
   "source": [
    "%%sh\n",
    "BWA_PATH=../../bwa-0.7.17/bwa\n",
    "$BWA_PATH index chr21_ref/chr21.fa\n",
    "$BWA_PATH mem -p chr21_ref/chr21.fa output/sim_sr.dwgsim.hap.12.fastq.gz | samtools view -Sb - > output/sim_sr.bwamem.bam"
   ]
  },
  {
   "cell_type": "markdown",
   "metadata": {},
   "source": [
    "After alignment, we sort and index the .bam"
   ]
  },
  {
   "cell_type": "code",
   "execution_count": null,
   "metadata": {},
   "outputs": [],
   "source": [
    "%%sh\n",
    "samtools sort output/sim_sr.bwamem.bam > output/sim_sr.bwamem.sorted.bam"
   ]
  },
  {
   "cell_type": "code",
   "execution_count": null,
   "metadata": {},
   "outputs": [],
   "source": [
    "%%sh\n",
    "rm output/sim_sr.bwamem.bam\n",
    "samtools index output/sim_sr.bwamem.sorted.bam"
   ]
  },
  {
   "cell_type": "markdown",
   "metadata": {},
   "source": [
    "### Long-read simulation\n",
    "The commands below use PBSIM3 to simulate HiFi reads from the synthetic genome (again at 10x total coverage). As with the short read simulation above, after generating the reads we combine the two haplotypes' reads and and create a .bam (with minimap2 in this case) which we then sort and index. "
   ]
  },
  {
   "cell_type": "code",
   "execution_count": null,
   "metadata": {},
   "outputs": [],
   "source": [
    "%%sh\n",
    "PBSIM_PATH=../../pbsim3/src/pbsim\n",
    "PBSIM_MODEL_PATH=\"$(dirname \"$(dirname \"$PBSIM_PATH\")\")\"/data/QSHMM-RSII.model\n",
    "$PBSIM_PATH --strategy wgs --method qshmm --qshmm $PBSIM_MODEL_PATH --depth 5 --accuracy-mean 0.999 --accuracy-min 0.99 --length-min 18000 --length-mean 20000 --length-max 22000 --genome output/sim.hapA.fa --prefix output/sim_lr.hapA\n",
    "$PBSIM_PATH --strategy wgs --method qshmm --qshmm $PBSIM_MODEL_PATH --depth 5 --accuracy-mean 0.999 --accuracy-min 0.99 --length-min 18000 --length-mean 20000 --length-max 22000 --genome output/sim.hapB.fa --prefix output/sim_lr.hapB"
   ]
  },
  {
   "cell_type": "code",
   "execution_count": null,
   "metadata": {},
   "outputs": [],
   "source": [
    "%%sh\n",
    "mv output/sim_lr.hapA_0001.fastq output/sim_lr.hap12.fastq\n",
    "cat output/sim_lr.hapB_0001.fastq >> output/sim_lr.hap12.fastq\n",
    "rm output/sim_lr.hapB_0001.fastq\n",
    "rm output/*_0001.maf\n",
    "rm output/*_0001.ref"
   ]
  },
  {
   "cell_type": "code",
   "execution_count": null,
   "metadata": {},
   "outputs": [],
   "source": [
    "%%sh\n",
    "MINIMAP_PATH=../../minimap2-2.26/minimap2\n",
    "$MINIMAP_PATH --eqx -ax map-hifi chr21_ref/chr21.fa output/sim_lr.hap12.fastq | samtools view -Sb > output/sim_lr.minimap2.bam"
   ]
  },
  {
   "cell_type": "code",
   "execution_count": null,
   "metadata": {},
   "outputs": [],
   "source": [
    "%%sh\n",
    "samtools sort output/sim_lr.minimap2.bam > output/sim_lr.minimap2.sorted.bam"
   ]
  },
  {
   "cell_type": "code",
   "execution_count": null,
   "metadata": {},
   "outputs": [],
   "source": [
    "%%sh\n",
    "rm output/sim_lr.minimap2.bam\n",
    "samtools index output/sim_lr.minimap2.sorted.bam"
   ]
  },
  {
   "cell_type": "markdown",
   "metadata": {},
   "source": [
    "------"
   ]
  },
  {
   "cell_type": "markdown",
   "metadata": {},
   "source": [
    "## SV Size Visualization\n",
    "Below we provide a simple parsing function to convert the VCF generated above into a dataframe that can easily be plotted or fed to other pos-hoc analyses."
   ]
  },
  {
   "cell_type": "code",
   "execution_count": null,
   "metadata": {
    "pycharm": {
     "name": "#%%\n"
    }
   },
   "outputs": [],
   "source": [
    "def insilico_bench_to_df(input_vcf):\n",
    "    vcf = VariantFile(input_vcf)\n",
    "    callset_info = {'chrom': [], 'start': [], 'end': [], 'component': [], 'length': [], 'type': [], 'parent_type': [], 'context': []}\n",
    "    for rec in vcf.fetch():\n",
    "        callset_info['chrom'].append(rec.chrom)\n",
    "        callset_info['start'].append(rec.start)\n",
    "        callset_info['end'].append(rec.stop)\n",
    "        callset_info['parent_type'].append(rec.id)\n",
    "        callset_info['type'].append(rec.id)\n",
    "        callset_info['component'].append('source')\n",
    "        callset_info['length'].append(rec.info['SVLEN'])\n",
    "        callset_info['context'].append('None' if 'OVERLAP_EV' not in rec.info else rec.info['OVERLAP_EV'])\n",
    "        if 'TARGET' in rec.info:\n",
    "            disp_interval = (rec.stop, rec.info['TARGET']) if rec.info['TARGET'] > rec.stop else (rec.info['TARGET'], rec.start)\n",
    "            callset_info['chrom'].append(rec.chrom)\n",
    "            callset_info['start'].append(rec.start)\n",
    "            callset_info['end'].append(rec.stop)\n",
    "            callset_info['parent_type'].append(rec.id)\n",
    "            callset_info['type'].append(rec.id + '_disp')\n",
    "            callset_info['component'].append('dispersion')\n",
    "            callset_info['length'].append(disp_interval[1] - disp_interval[0])\n",
    "            callset_info['context'].append('None')\n",
    "    vcf_df = pd.DataFrame(callset_info)\n",
    "    return vcf_df\n"
   ]
  },
  {
   "cell_type": "code",
   "execution_count": null,
   "metadata": {},
   "outputs": [],
   "source": [
    "sim_df = insilico_bench_to_df('output/sim.vcf')"
   ]
  },
  {
   "cell_type": "code",
   "execution_count": null,
   "metadata": {},
   "outputs": [],
   "source": [
    "sim_df"
   ]
  },
  {
   "cell_type": "code",
   "execution_count": null,
   "metadata": {},
   "outputs": [],
   "source": [
    "def plot_simulation(df):\n",
    "    violin_color_palette = {'source': '#85C1E9', 'dispersion': '#EB984E'}\n",
    "    f, ax = plt.subplots(figsize=(10,5))\n",
    "    sns.set_style('white')\n",
    "    sns.set_style('ticks')\n",
    "    sns.violinplot(data=df, x='parent_type', y='length', hue='component', split=False, order=['DEL', 'DUP', 'INV', 'dDUP'], hue_order=['source', 'dispersion'], palette=violin_color_palette)\n",
    "    sns.despine(offset=10, trim=True)\n",
    "    ax.set(xlabel='', ylabel='Length')"
   ]
  },
  {
   "cell_type": "code",
   "execution_count": null,
   "metadata": {},
   "outputs": [],
   "source": [
    "plot_simulation(sim_df)"
   ]
  },
  {
   "cell_type": "markdown",
   "metadata": {},
   "source": [
    "## IGV Visualization\n",
    "Below we provide infrastructure for the automatic visualization of insilicoSV output in IGV. The IGV batch script generated by this function can be input into desktop or commandline IGV, but for this example we will call into commandline IGV, which can be downloaded [here](https://data.broadinstitute.org/igv/projects/downloads/2.16/IGV_2.16.2.zip)."
   ]
  },
  {
   "cell_type": "code",
   "execution_count": null,
   "metadata": {},
   "outputs": [],
   "source": [
    "%%sh\n",
    "mkdir -p IGV_screenshots"
   ]
  },
  {
   "cell_type": "code",
   "execution_count": null,
   "metadata": {},
   "outputs": [],
   "source": [
    "def is_contained(query_interval, interval):\n",
    "    # helper function to check for containment of query interval in any of the intervals stored in the tree\n",
    "    return interval.begin <= query_interval.begin and\\\n",
    "           interval.end >= query_interval.end and\\\n",
    "           interval.data == query_interval.data\n",
    "\n",
    "\n",
    "def generate_script(input_vcfs, bam_paths, vcf_paths, output_batch_script_path, igv_screenshot_dir, min_svlen,\n",
    "                    max_svlen, genome='hg38', colorby_ins_size=True, groupby_pair_orientation=True,\n",
    "                    viewaspairs=True, skip_duplicates=True):\n",
    "    \"\"\"\n",
    "    method to generate a batch script for an input vcf\n",
    "    \"\"\"\n",
    "    out = open(output_batch_script_path, 'w')\n",
    "    out.write('new\\n')\n",
    "    out.write(f'genome {genome}\\n')\n",
    "    out.write('preference SAM.MAX_VISIBLE_RANGE 1000\\n')\n",
    "    out.write('preference SAM.SHOW_MISMATCHES FALSE\\n')\n",
    "    for bam_path in bam_paths:\n",
    "        out.write(f'load {bam_path}\\n')\n",
    "    for vcf_path in vcf_paths:\n",
    "        out.write(f'load {vcf_path}\\n')\n",
    "\n",
    "    # maintaining an interval tree of the genome intervals that have been screenshot in case\n",
    "    # there are multiple input records that will have been captured by a single screenshot\n",
    "    screenshot_intervals = IntervalTree()\n",
    "\n",
    "    write_first_time = True\n",
    "    for input_vcf in input_vcfs:\n",
    "        input_vcf_file = VariantFile(input_vcf)\n",
    "        for rec in input_vcf_file.fetch():\n",
    "            if skip_duplicates and any([is_contained(Interval(rec.start, rec.stop, rec.chrom), ivl)\n",
    "                                        for ivl in list(screenshot_intervals.overlap(rec.start, rec.stop))]):\n",
    "                continue\n",
    "            start, end = rec.start, rec.stop\n",
    "            if 'TARGET' in rec.info:\n",
    "                if rec.info['TARGET'] > end:\n",
    "                    end = rec.info['TARGET']\n",
    "                else:\n",
    "                    start = rec.info['TARGET']\n",
    "            svlen = end - start\n",
    "            if min_svlen <= svlen <= max_svlen:\n",
    "                # setting the margin on either side of the interval to svlen/10\n",
    "                screenshot_margin = svlen // 10\n",
    "                start_pos = str(start - screenshot_margin)\n",
    "                end_pos = str(end + screenshot_margin)\n",
    "                svtype = rec.info['SVTYPE']\n",
    "                out.write('goto ' + rec.chrom + ':' + start_pos + '-' + end_pos + '\\n')\n",
    "                screenshot_intervals[int(start_pos):int(end_pos)] = rec.chrom\n",
    "                if write_first_time:\n",
    "                    if colorby_ins_size:\n",
    "                        out.write('colorby INSERT_SIZE\\n')\n",
    "                    if groupby_pair_orientation:\n",
    "                        out.write('group PAIR_ORIENTATION\\n')\n",
    "                    if viewaspairs:\n",
    "                        out.write('viewaspairs\\n')\n",
    "                    out.write('maxPanelHeight 1000\\n')\n",
    "                    out.write('snapshotDirectory ' + igv_screenshot_dir + '\\n')\n",
    "                    write_first_time = False\n",
    "                out.write('collapse\\n')\n",
    "                out.write(f'snapshot {rec.chrom}_{rec.start}_{rec.stop}_{svtype}.png\\n')\n",
    "    out.close()\n",
    "\n",
    "generate_script(input_vcfs=['output/sim.vcf'], bam_paths=['output/sim_sr.bwamem.sorted.bam', 'output/sim_lr.minimap2.sorted.bam'],\n",
    "                vcf_paths=['output/sim.vcf'], output_batch_script_path='IGV_screenshots/IGV_batch_script.txt',\n",
    "                igv_screenshot_dir='./IGV_screenshots', min_svlen=0, max_svlen=250000)"
   ]
  },
  {
   "cell_type": "markdown",
   "metadata": {},
   "source": [
    "The batch script is populated with some initializing parameters regarding alignment visualization but can be edited according to the [documentation](https://github.com/igvteam/igv/wiki/Batch-commands)"
   ]
  },
  {
   "cell_type": "code",
   "execution_count": null,
   "metadata": {},
   "outputs": [],
   "source": [
    "%%sh\n",
    "cat IGV_screenshots/IGV_batch_script.txt | head -n 20"
   ]
  },
  {
   "cell_type": "markdown",
   "metadata": {},
   "source": [
    "This call to IGV will populate the `IGV_screenshots/` directory with `.png` images for each record in our input VCF, a subset of which we visualize below."
   ]
  },
  {
   "cell_type": "code",
   "execution_count": null,
   "metadata": {},
   "outputs": [],
   "source": [
    "%%sh\n",
    "PATH_TO_IGV=~/Documents/software/IGV_2.16.0/igv.sh\n",
    "sh $PATH_TO_IGV -b IGV_screenshots/IGV_batch_script.txt"
   ]
  },
  {
   "cell_type": "code",
   "execution_count": null,
   "metadata": {},
   "outputs": [],
   "source": [
    "Image(filename='IGV_screenshots/chr21_40878089_40878743_DEL.png')"
   ]
  },
  {
   "cell_type": "code",
   "execution_count": null,
   "metadata": {},
   "outputs": [],
   "source": [
    "Image(filename='IGV_screenshots/chr21_26921713_26922366_DUP.png')"
   ]
  },
  {
   "cell_type": "code",
   "execution_count": null,
   "metadata": {},
   "outputs": [],
   "source": [
    "Image(filename='IGV_screenshots/chr21_9370432_9370586_INV.png')"
   ]
  },
  {
   "cell_type": "code",
   "execution_count": null,
   "metadata": {},
   "outputs": [],
   "source": [
    "Image(filename='IGV_screenshots/chr21_9285293_9285424_dDUP.png')"
   ]
  },
  {
   "cell_type": "code",
   "execution_count": null,
   "metadata": {},
   "outputs": [],
   "source": []
  }
 ],
 "metadata": {
  "kernelspec": {
   "display_name": "insilicoSV_env",
   "language": "python",
   "name": "insilicosv_env"
  },
  "language_info": {
   "codemirror_mode": {
    "name": "ipython",
    "version": 3
   },
   "file_extension": ".py",
   "mimetype": "text/x-python",
   "name": "python",
   "nbconvert_exporter": "python",
   "pygments_lexer": "ipython3",
   "version": "3.9.16"
  }
 },
 "nbformat": 4,
 "nbformat_minor": 4
}
