{
 "cells": [
  {
   "cell_type": "markdown",
   "metadata": {
    "pycharm": {
     "name": "#%% md\n"
    }
   },
   "source": [
    "# Cancer Genome Simulation Overview\n",
    "This notebook provides a pipeline to run insilicoSV sequentially to simulate cancer genomes.\n",
    "This notebook takes as input a YAML file containing:\n",
    "  - The paths to several insilicoSV YAML config files.\n",
    "  - A list of the tumor clones and the sequence of config files to run to obtain the clone genome.\n",
    "  - The tumor purity of each clone for the simulation of the reads.\n",
    "Refer to the provided clones.yaml config for an example of the expected syntax. "
   ]
  },
  {
   "cell_type": "markdown",
   "metadata": {},
   "source": "## Generate the Clone Genomes"
  },
  {
   "metadata": {},
   "cell_type": "code",
   "source": [
    "import sys\n",
    "\n",
    "import yaml\n",
    "from pysam import VariantFile\n",
    "from IPython.display import Image\n",
    "from collections import defaultdict\n",
    "import os\n",
    "import subprocess\n",
    "import shutil\n",
    "from math import ceil"
   ],
   "outputs": [],
   "execution_count": null
  },
  {
   "metadata": {},
   "cell_type": "code",
   "source": "number_threads = '10'",
   "outputs": [],
   "execution_count": null
  },
  {
   "cell_type": "code",
   "metadata": {},
   "source": [
    "%%sh\n",
    "rm -r ./clones/\n",
    "mkdir -p clones\n",
    "\n",
    "# download the chr21 reference\n",
    "wget -O clones/chr21.fa.gz https://hgdownload.soe.ucsc.edu/goldenPath/hg38/chromosomes/chr21.fa.gz\n",
    "gunzip -f clones/chr21.fa.gz"
   ],
   "outputs": [],
   "execution_count": null
  },
  {
   "cell_type": "code",
   "metadata": {},
   "source": [
    "%%sh\n",
    "# copy the YAML config file\n",
    "cp ./configs/clones.yaml ./clones/.\n",
    "\n",
    "# display the config\n",
    "cat ./clones/clones.yaml"
   ],
   "outputs": [],
   "execution_count": null
  },
  {
   "metadata": {},
   "cell_type": "code",
   "source": [
    "def run_bash_process(command):\n",
    "    try:\n",
    "        output = subprocess.run(\n",
    "        ' '.join(command),\n",
    "        stdout=subprocess.DEVNULL,\n",
    "        stderr=subprocess.PIPE,\n",
    "        shell=True,\n",
    "        text=True          \n",
    "        )\n",
    "        \n",
    "        if output.stderr:\n",
    "            print(output.stderr)\n",
    "\n",
    "    except subprocess.CalledProcessError as e:\n",
    "        print(\"Command failed with return code:\", e.returncode)\n",
    "        print(e.stderr)\n",
    "        raise        "
   ],
   "outputs": [],
   "execution_count": null
  },
  {
   "metadata": {},
   "cell_type": "code",
   "source": [
    "def call_insilicosv(path, config_name):\n",
    "    command = ['insilicosv', '-c', path + config_name]\n",
    "    run_bash_process(command)"
   ],
   "outputs": [],
   "execution_count": null
  },
  {
   "metadata": {},
   "cell_type": "code",
   "source": [
    "def merge_insilicosv_output(path):\n",
    "    merge_command = ['cat', path + 'sim.hapA.fa',  path + 'sim.hapB.fa', '>', path + 'sim.fa']\n",
    "    run_bash_process(merge_command)"
   ],
   "outputs": [],
   "execution_count": null
  },
  {
   "metadata": {},
   "cell_type": "code",
   "source": [
    "def clonal_genome_generator(folder_path, config_name):\n",
    "    reads_to_simulate = {}\n",
    "    vcf_dict = {}\n",
    "    with open(folder_path + config_name) as config_yaml:\n",
    "        config = yaml.safe_load(config_yaml)\n",
    "    reference = config['reference']\n",
    "    for clone_name, dependencies in config['clones'].items():\n",
    "        current_path = folder_path \n",
    "        previous_vcf_path = ''\n",
    "        for dependency in dependencies:\n",
    "            current_path = current_path + '/dependency_' + str(dependency) + '/'\n",
    "            config_name = config['config_files'][dependency].split('/')[-1]\n",
    "\n",
    "            if os.path.exists(current_path): \n",
    "                previous_vcf_path = current_path + '/sim.vcf' \n",
    "                continue\n",
    "            \n",
    "            os.makedirs(current_path)\n",
    "            shutil.copy(config['config_files'][dependency], current_path)\n",
    "            \n",
    "            # Append the previous insilicoSV output as new reference or use the initial reference if first call\n",
    "            with open(current_path + config_name, 'a') as file:\n",
    "                if previous_vcf_path:\n",
    "                    file.write('\\n  - import: ' + previous_vcf_path + '\\n')\n",
    "                file.write('\\nreference: ' + reference + \"\\n\")\n",
    "\n",
    "            call_insilicosv(current_path, config_name)\n",
    "            previous_vcf_path = current_path + 'sim.vcf'\n",
    "            if dependency == dependencies[-1]:\n",
    "                merge_insilicosv_output(current_path)\n",
    "            os.remove(current_path + '.hapA.fa')\n",
    "            os.remove(current_path + '.hapB.fa')\n",
    "                \n",
    "        vcf_dict[str(clone_name)] = previous_vcf_path \n",
    "        purity = config['purity'][clone_name]\n",
    "        reads_to_simulate[clone_name] = [current_path, purity]\n",
    "    global_coverage = config['coverage']\n",
    "    return reference, global_coverage, vcf_dict, reads_to_simulate"
   ],
   "outputs": [],
   "execution_count": null
  },
  {
   "metadata": {},
   "cell_type": "code",
   "source": [
    "root_path = './clones/'\n",
    "reference, coverage, vcf_dict, reads_to_simulate = clonal_genome_generator(root_path, 'clones.yaml')"
   ],
   "outputs": [],
   "execution_count": null
  },
  {
   "cell_type": "markdown",
   "metadata": {
    "pycharm": {
     "name": "#%% md\n"
    }
   },
   "source": [
    "## Read simulation\n",
    "### Short-read simulation\n",
    "Below we simulate paired-end short reads at the suited coverage given each clone purity and the requested total coverage using ```DWGSIM```. \n",
    "\n",
    "After generating the reads, we align them with minimap2 (short-read mode) and sort the alignments using ```samtools```."
   ]
  },
  {
   "metadata": {},
   "cell_type": "code",
   "source": [
    "def call_dwgsim(dwgsim_coverage, read_length, platform, genome, output_prefix):\n",
    "    dwgsim_path = shutil.which('dwgsim')\n",
    "\n",
    "    command = [dwgsim_path, '-C', str(dwgsim_coverage), '-1', str(read_length), '-2', str(read_length), '-o', platform, '-H', genome, output_prefix]\n",
    "    run_bash_process(command)"
   ],
   "outputs": [],
   "execution_count": null
  },
  {
   "metadata": {},
   "cell_type": "code",
   "source": [
    "def align_reads(platform, reference, reads, output_name):\n",
    "    command_align = ['minimap2', '-t', number_threads, '-ax', platform, reference] + reads + ['|', 'samtools', 'sort', '-@', number_threads, '-o', output_name, '-']\n",
    "    run_bash_process(command_align)\n",
    "    \n",
    "    command_index = ['samtools', 'index', '-@', number_threads, output_name]\n",
    "    run_bash_process(command_index)\n",
    "    \n",
    "    command_get_coverage = ['samtools', 'coverage', output_name, '>', output_name + '.coverage']\n",
    "    run_bash_process(command_get_coverage)\n",
    "    \n",
    "    with open(output_name + '.coverage', 'r') as cov_file:\n",
    "        print('PROCESSED: Clone', output_name, 'coverage/n', cov_file.read())"
   ],
   "outputs": [],
   "execution_count": null
  },
  {
   "metadata": {},
   "cell_type": "code",
   "source": [
    "def merge_clones(output_name, list_bams):\n",
    "    print('Merging clones...')\n",
    "    command = ['samtools', 'merge', '-@', number_threads, '-o', output_name] + list_bams\n",
    "    run_bash_process(command)\n",
    "    \n",
    "    print('Indexing reads...')\n",
    "    command_index = ['samtools', 'index', '-@', number_threads, output_name]\n",
    "    run_bash_process(command_index)\n",
    "    \n",
    "    print('Computing coverage...')\n",
    "    command_get_coverage = ['samtools', 'coverage', output_name, '>', output_name + '.coverage']\n",
    "    run_bash_process(command_get_coverage)\n",
    "    \n",
    "    with open(output_name + '.coverage', 'r') as cov_file:\n",
    "        print('PROCESSED: Whole cancer genome', output_name, 'coverage', cov_file.read())"
   ],
   "outputs": [],
   "execution_count": null
  },
  {
   "metadata": {},
   "cell_type": "markdown",
   "source": "We then merge all the simulated reads to obtain the requested coverage."
  },
  {
   "metadata": {
    "pycharm": {
     "name": "#%%\n"
    }
   },
   "cell_type": "code",
   "source": [
    "read_length = 151\n",
    "dwgsim_platform = '0' # Illumina\n",
    "alignment_platform = 'sr'\n",
    "list_sr_bams = []\n",
    "for clone_name, (genome_folder, purity) in reads_to_simulate.items():\n",
    "    print('Simulating reads for clone', clone_name)\n",
    "    output_prefix = genome_folder + 'sim_sr.dwgsim'\n",
    "    clone_coverage = ceil(coverage * purity / 100 / 2)\n",
    "    print('Clone purity', purity, ' Clone coverage', clone_coverage * 2)\n",
    "    call_dwgsim(clone_coverage, read_length, dwgsim_platform, genome_folder + '/sim.fa', output_prefix)\n",
    "    \n",
    "    print('Aligning reads')\n",
    "    r1 = output_prefix + '.bwa.read1.fastq.gz'\n",
    "    r2 = output_prefix + '.bwa.read2.fastq.gz'\n",
    "    output_name = genome_folder + '/' + clone_name + '_sim_sr.dwgsim.bam'\n",
    "    list_sr_bams.append(output_name)\n",
    "    reads = [r1, r2]\n",
    "    align_reads(alignment_platform, reference, reads, output_name)"
   ],
   "outputs": [],
   "execution_count": null
  },
  {
   "metadata": {},
   "cell_type": "code",
   "source": [
    "output_name_sr = root_path + 'cancer_genome_sr.bam'\n",
    "merge_clones(output_name_sr, list_sr_bams)"
   ],
   "outputs": [],
   "execution_count": null
  },
  {
   "cell_type": "markdown",
   "metadata": {
    "pycharm": {
     "name": "#%% md\n"
    }
   },
   "source": [
    "### Long-read simulation\n",
    "We use PBSIM3 to simulate HiFi reads from the synthetic genome. Since PBSIM3 outputs reads for each reference contig, we also combine the reads from the two synthetic haplotypes into a single FASTQ file.\n",
    "\n",
    "After generating the reads, we align them with minimap2 (HiFi mode) and sort the alignments using ```samtools```."
   ]
  },
  {
   "metadata": {},
   "cell_type": "code",
   "source": [
    "def call_pbsim(pbsim_coverage, read_length_mean, accuracy_mean, genome, output_prefix):\n",
    "    conda_prefix = os.environ.get('CONDA_PREFIX')\n",
    "    command = ['pbsim', '--depth', str(pbsim_coverage), '--genome', genome, '--prefix', output_prefix, '--strategy', 'wgs', '--method', 'qshmm', '--qshmm', conda_prefix + '/data/QSHMM-RSII.model', '--length-mean', read_length_mean, '--accuracy-mean', accuracy_mean]\n",
    "    run_bash_process(command)\n",
    "    print('Merging haplotypes')\n",
    "    merge_command = ['zcat', output_prefix + '*.fq.gz', '>>', output_prefix + '.fastq']\n",
    "    run_bash_process(merge_command)"
   ],
   "outputs": [],
   "execution_count": null
  },
  {
   "metadata": {},
   "cell_type": "code",
   "source": [
    "read_length_mean = '20000'\n",
    "accuracy_mean = '0.999'\n",
    "alignment_platform = 'map-hifi'\n",
    "print('Simulating long reads at coverage', coverage)\n",
    "list_lr_bams = []\n",
    "for clone_name, (genome_folder, purity) in reads_to_simulate.items():\n",
    "    print('Simulating reads for clone', clone_name)\n",
    "    clone_coverage = coverage * purity / 100 / 2\n",
    "    print('Clone purity', purity, 'Clone coverage', clone_coverage * 2)\n",
    "    output_prefix = genome_folder + 'sim_lr.pbsim'\n",
    "    call_pbsim(clone_coverage, read_length_mean, accuracy_mean, genome_folder + '/sim.fa', output_prefix)\n",
    "    \n",
    "    print('Aligning reads')\n",
    "    reads = [output_prefix + '.fastq']\n",
    "    output_name = genome_folder + '/' + clone_name + '_sim_lr.pbsim.bam'\n",
    "    list_lr_bams.append(output_name)\n",
    "    align_reads(alignment_platform, reference, reads, output_name)"
   ],
   "outputs": [],
   "execution_count": null
  },
  {
   "cell_type": "code",
   "metadata": {
    "pycharm": {
     "name": "#%%\n"
    }
   },
   "source": [
    "output_name_lr = root_path + 'cancer_genome_lr.bam'\n",
    "merge_clones(output_name_lr, list_lr_bams)"
   ],
   "outputs": [],
   "execution_count": null
  },
  {
   "cell_type": "markdown",
   "metadata": {
    "pycharm": {
     "name": "#%% md\n"
    }
   },
   "source": [
    "## SV Visualization\n",
    "Below we generate ```samplot``` illustrations for each SV simulated with ```insilicoSV```."
   ]
  },
  {
   "cell_type": "code",
   "metadata": {
    "pycharm": {
     "name": "#%%\n"
    },
    "scrolled": false
   },
   "source": [
    "samplot_path = root_path + 'samplot/'\n",
    "os.makedirs(samplot_path, exist_ok=True)\n",
    "\n",
    "os.environ[\"MPLBACKEND\"] = \"Agg\"\n",
    "\n",
    "for dependency_name, vcf_path in vcf_dict.items():\n",
    "    vcf = VariantFile(vcf_path)\n",
    "    rec2breakends = defaultdict(set)\n",
    "    rec2chrom = defaultdict(str)\n",
    "    for vcf_rec in vcf.fetch():\n",
    "        vcf_info = dict(vcf_rec.info)        \n",
    "        sv_title = \"%s_%s_%s\" % (vcf_info.get('SVTYPE', 'SNP'), \n",
    "                                 vcf_info.get('SVID', vcf_rec.id), \n",
    "                                 vcf_info.get('GRAMMAR', '').replace(\"->\", \"-to-\"))\n",
    "        rec2breakends[sv_title].add(vcf_rec.start)\n",
    "        rec2breakends[sv_title].add(vcf_rec.stop)\n",
    "        if 'TARGET' in vcf_info:\n",
    "            rec2breakends[sv_title].add(vcf_info['TARGET'])\n",
    "        rec2chrom[sv_title] = vcf_rec.chrom\n",
    "    vcf.close()\n",
    "               \n",
    "    for sv_title, sv_breakends in rec2breakends.items():\n",
    "        chrom = rec2chrom[sv_title]\n",
    "        sv_breakends = sorted(sv_breakends)\n",
    "        output_file = \"%s/%s.png\" % (samplot_path, dependency_name + '_' + sv_title)\n",
    "        start = min(sv_breakends)\n",
    "        end = max(sv_breakends)\n",
    "        length = end - start\n",
    "        wlen = ceil(length + length * 0.05)\n",
    "        command = [\"samplot\", \"plot\", \"-n\", \"Illumina\", \"HiFi\", \"-b\", output_name_sr, output_name_lr, \"-s\", str(start), \"-e\", str(end), \"-c\", chrom, \"-t\", sv_title, \"-w\", str(wlen),\n",
    "                    \"--include_mqual\", \"0\", \"--separate_mqual\", \"1\", \"-o\", output_file]\n",
    "\n",
    "        run_bash_process(command)"
   ],
   "outputs": [],
   "execution_count": null
  },
  {
   "cell_type": "code",
   "metadata": {
    "pycharm": {
     "name": "#%%\n"
    }
   },
   "source": [
    "%%sh\n",
    "ls -l clones/samplot/"
   ],
   "outputs": [],
   "execution_count": null
  },
  {
   "cell_type": "markdown",
   "metadata": {
    "pycharm": {
     "name": "#%% md\n"
    }
   },
   "source": "We visualize some SVs below."
  },
  {
   "cell_type": "code",
   "metadata": {
    "pycharm": {
     "name": "#%%\n"
    }
   },
   "source": [
    "# Shared by all clones\n",
    "Image(filename=samplot_path + 'A_DUP_INV_sv15_A-to-aa.png')"
   ],
   "outputs": [],
   "execution_count": null
  },
  {
   "metadata": {},
   "cell_type": "code",
   "outputs": [],
   "execution_count": null,
   "source": [
    "# Present in clone D only\n",
    "Image(filename=samplot_path + 'D_dDUP_sv4_A_-to-A_A.png')"
   ]
  },
  {
   "cell_type": "code",
   "metadata": {
    "pycharm": {
     "name": "#%%\n"
    }
   },
   "source": [
    "# Shared by all clones\n",
    "Image(filename=samplot_path + 'E_DUP_Imported_sv8_.png')"
   ],
   "outputs": [],
   "execution_count": null
  },
  {
   "cell_type": "code",
   "metadata": {},
   "source": [
    "# Present in three clones \n",
    "Image(filename=samplot_path + 'C_INDEL_Imported_sv10_.png')"
   ],
   "outputs": [],
   "execution_count": null
  },
  {
   "metadata": {},
   "cell_type": "code",
   "source": [
    "# Present in C only\n",
    "Image(filename=samplot_path + '/C_DEL_sv3_A-to-.png')"
   ],
   "outputs": [],
   "execution_count": null
  }
 ],
 "metadata": {
  "kernelspec": {
   "display_name": "Python (insislicoSV)",
   "language": "python",
   "name": "insilicosv"
  },
  "language_info": {
   "codemirror_mode": {
    "name": "ipython",
    "version": 3
   },
   "file_extension": ".py",
   "mimetype": "text/x-python",
   "name": "python",
   "nbconvert_exporter": "python",
   "pygments_lexer": "ipython3",
   "version": "3.9.12"
  }
 },
 "nbformat": 4,
 "nbformat_minor": 4
}
